{
  "cells": [
    {
      "cell_type": "markdown",
      "metadata": {
        "id": "VqsNiDxRNr2u"
      },
      "source": [
        "## **PENEGENALAN PYTHON**\n",
        "## **SYNTAX** **DASAR**"
      ]
    },
    {
      "cell_type": "code",
      "execution_count": null,
      "metadata": {
        "colab": {
          "background_save": true
        },
        "id": "Om68loM_O0yF",
        "outputId": "12c993f7-9979-4089-bc49-6449972d4b22"
      },
      "outputs": [
        {
          "name": "stdout",
          "output_type": "stream",
          "text": [
            "Hello World\n"
          ]
        }
      ],
      "source": [
        "print('Hello World')"
      ]
    },
    {
      "cell_type": "code",
      "source": [
        "print(\"Gracella Mangalik\")"
      ],
      "metadata": {
        "colab": {
          "base_uri": "https://localhost:8080/"
        },
        "id": "y8vxy4Ggp5av",
        "outputId": "0c73a423-1730-41a9-ed36-5338dc09ce6b"
      },
      "execution_count": null,
      "outputs": [
        {
          "output_type": "stream",
          "name": "stdout",
          "text": [
            "Gracella Mangalik\n"
          ]
        }
      ]
    },
    {
      "cell_type": "markdown",
      "source": [
        "# **Komentar**\n"
      ],
      "metadata": {
        "id": "IPc7d4zJqKUU"
      }
    },
    {
      "cell_type": "code",
      "source": [
        "# ini namanya komentar gaes!!!\n",
        "\n",
        "\"\"\"\n",
        "ini juga komentar gaes, tapi bisa banyak baris\n",
        "ini juga komentar gaes, tapi bisa banyak baris\n",
        "ini juga komentar gaes, tapi bisa banyak baris\n",
        "ini juga komentar gaes, tapi bisa banyak baris\n",
        "\"\"\"\n",
        "\n",
        "print(\"Komentar tidak akan mengeluarkan output apapun\")"
      ],
      "metadata": {
        "colab": {
          "base_uri": "https://localhost:8080/"
        },
        "id": "BNJNG-XiqWQa",
        "outputId": "e2c180f1-3ae8-408e-f373-99f9f02aa292"
      },
      "execution_count": null,
      "outputs": [
        {
          "output_type": "stream",
          "name": "stdout",
          "text": [
            "Komentar tidak akan mengeluarkan output apapun\n"
          ]
        }
      ]
    },
    {
      "cell_type": "markdown",
      "source": [
        "# **Variable**"
      ],
      "metadata": {
        "id": "cs2Q12gtqslY"
      }
    },
    {
      "cell_type": "markdown",
      "source": [
        "Aturan Penulisan Variabel:\n",
        "\n",
        "- Nama variabel boleh diawali menggunakan huruf atau garis bawah _. Contoh: nama, _nama, namaKu, nama_variabel\n",
        "- Karakter selanjutnya dapat berupa huruf, garis bawah _ atau angka. Contoh: __nama, n2, nilai1\n",
        "- Variabel tidak boleh dimulai dengan angka ataupun simbol.\n",
        "- Variabel tidak boleh berupa kata kunci (keyword) yang ada dalam Python. Contoh: if, else, while, for, dan masih banyak lagi"
      ],
      "metadata": {
        "id": "KzAdEwImrBPc"
      }
    },
    {
      "cell_type": "code",
      "source": [
        "# Variabel\n",
        "Nama = \"Gracella\"\n",
        "umur = 50\n",
        "status_pernikahan = \"Belum Menikah\"\n",
        "statuspernikahan = \"Menikah\""
      ],
      "metadata": {
        "id": "DeNJ2Uo8rMIq"
      },
      "execution_count": null,
      "outputs": []
    },
    {
      "cell_type": "markdown",
      "source": [
        "# **Tipe Data**"
      ],
      "metadata": {
        "id": "eyn664_MsrOF"
      }
    },
    {
      "cell_type": "markdown",
      "source": [
        "Tipe data pertama yang akan kita bahas adalah tipe data numerik. Dalam tipe data numerik, terdapat dua jenis tipe data:\n",
        "int, untuk nilai-nilai bilangan bulat\n",
        "float, untuk nilai-nilai bilangan desimal atau real\n",
        "complex, untuk nilai-nilai bilanga kompleks"
      ],
      "metadata": {
        "id": "GDDwObSDs9wz"
      }
    },
    {
      "cell_type": "code",
      "source": [
        "# Tipe data\n",
        "bilangan_bulat = 10\n",
        "bilangan_desimal = 3.14\n",
        "teks = \"Halo, dunia!\"\n",
        "teks_multibaris = '''Gracella\n",
        "dan\n",
        "Cella'''\n",
        "boolean = True\n",
        "\n",
        "# Menampilkan nilai variabel\n",
        "print('Nama:', Nama, 'dan Umur:', umur)\n",
        "print(f\"Nama: {Nama} dan Umur: {umur}\")\n",
        "print('\\n')\n",
        "print(teks_multibaris)"
      ],
      "metadata": {
        "colab": {
          "base_uri": "https://localhost:8080/"
        },
        "id": "BjlwW_A6tD2h",
        "outputId": "3f74b49e-469b-4003-b272-e776b0e8114a"
      },
      "execution_count": null,
      "outputs": [
        {
          "output_type": "stream",
          "name": "stdout",
          "text": [
            "Nama: Gracella dan Umur: 50\n",
            "Nama: Gracella dan Umur: 50\n",
            "\n",
            "\n",
            "Gracella\n",
            "dan\n",
            "Cella\n"
          ]
        }
      ]
    },
    {
      "cell_type": "markdown",
      "source": [
        "# **MultiStatment Variabel**"
      ],
      "metadata": {
        "id": "oOSKt01vugDU"
      }
    },
    {
      "cell_type": "code",
      "source": [
        "nama = \"Gracella\"\n",
        "a = 10; b = 50\n",
        "kesibukan, keterangan = 'Berkuliah','Institut Teknologi Telkom Surabaya'"
      ],
      "metadata": {
        "id": "rhXNZXu4unq-"
      },
      "execution_count": null,
      "outputs": []
    },
    {
      "cell_type": "code",
      "source": [
        "print(f\"Nama saya {nama} dan Umur saya adalah {a+b} Tahun dan sedang {kesibukan} di {keterangan}\")"
      ],
      "metadata": {
        "colab": {
          "base_uri": "https://localhost:8080/"
        },
        "id": "DuFotCIxuvqd",
        "outputId": "89f95a17-4d36-42fd-94c3-7120441ebbdd"
      },
      "execution_count": null,
      "outputs": [
        {
          "output_type": "stream",
          "name": "stdout",
          "text": [
            "Nama saya Gracella dan Umur saya adalah 60 Tahun dan sedang Berkuliah di Institut Teknologi Telkom Surabaya\n"
          ]
        }
      ]
    },
    {
      "cell_type": "markdown",
      "source": [
        "# **Input dari Pengguna**"
      ],
      "metadata": {
        "id": "_9fl8MgovJxF"
      }
    },
    {
      "cell_type": "code",
      "source": [
        "nama = input(\"Masukkan nama Anda: \")\n",
        "makan = 'sudah'\n",
        "harga = int(input(\"Berapa harganya?: \"))\n",
        "\n",
        "print('\\n')\n",
        "print(\"Halo, aku\", nama, 'dan aku', makan, 'makan ayam goreng yang harganya Rp', harga)"
      ],
      "metadata": {
        "colab": {
          "base_uri": "https://localhost:8080/"
        },
        "id": "oo2FZSojvOtr",
        "outputId": "6fb1abe9-4f24-425f-c6e7-047eacf33e66"
      },
      "execution_count": null,
      "outputs": [
        {
          "output_type": "stream",
          "name": "stdout",
          "text": [
            "Masukkan nama Anda: gracella\n",
            "Berapa harganya?: 25000\n",
            "\n",
            "\n",
            "Halo, aku gracella dan aku sudah makan ayam goreng yang harganya Rp 25000\n"
          ]
        }
      ]
    },
    {
      "cell_type": "markdown",
      "source": [
        "# **Operator Aritmatika**"
      ],
      "metadata": {
        "id": "iuZjK0CrxxST"
      }
    },
    {
      "cell_type": "markdown",
      "source": [
        "OPERATOR\n",
        "-  Penjumlahan(+),untuk menjumlahkan nilai dari masing-masing operan atau bilangan.\n",
        "- Pengurangan(-), untuk mengurangi nilai operan di sebelah kiri menggunakan operan di sebelah kanan.\n",
        "- Perkalian(*), untuk mengalikan operan/bilangan.\n",
        "- Pembagian(/), untuk membagi operan di sebelah kiri menggunakan operan di sebelah kanan.\n",
        "- Sisa Bagi(%), untuk mendapatkan sisa pembagian dari operan di sebelah kiri operator ketika dibagi oleh operan di sebelah kanan.\n",
        "- Pangkat(**), untuk memangkatkan operan disebelah kiri operator dengan operan di sebelah kanan operator.\n",
        "- Pembagian Bulat //, digunakan sama seperti pembagian. Hanya saja angka dibelakang koma dihilangkan."
      ],
      "metadata": {
        "id": "csdhbQeqx8Nx"
      }
    },
    {
      "cell_type": "code",
      "source": [
        "#OPERATOR ARITMATIKA\n",
        "\n",
        "#Penjumlahan\n",
        "print(13 + 2)\n",
        "apel = 7\n",
        "jeruk = 9\n",
        "buah = apel + jeruk 5\n",
        "print(buah)\n",
        "\n",
        "#Pengurangan\n",
        "hutang = 10000\n",
        "bayar = 5000\n",
        "sisaHutang = hutang - bayar\n",
        "print(\"Sisa hutang Anda adalah \", sisaHutang)\n",
        "\n",
        "#Perkalian\n",
        "panjang = 15\n",
        "lebar = 8\n",
        "luas = panjang * lebar\n",
        "print(luas)\n",
        "\n",
        "#Pembagian\n",
        "kue = 16\n",
        "anak = 4\n",
        "kuePerAnak = kue / anak\n",
        "print(\"Setiap anak akan mendapatkan bagian kue sebanyak \", kuePerAnak)\n",
        "\n",
        "#Sisa Bagi / Modulus\n",
        "bilangan1 = 14\n",
        "bilangan2 = 5\n",
        "hasil = bilangan1 % bilangan2\n",
        "print(\"Sisa bagi dari bilangan \", bilangan1, \" dan \", bilangan2, \" adalah \", hasil)\n",
        "\n",
        "#Pangkat\n",
        "bilangan3 = 8\n",
        "bilangan4 = 2\n",
        "hasilPangkat = bilangan3 ** bilangan4\n",
        "print(hasilPangkat)\n",
        "\n",
        "#Pembagian Bulat\n",
        "print(10//3)\n",
        "#10 dibagi 3 adalah 3.3333. Karena dibulatkan maka akan menghasilkan nilai 3"
      ],
      "metadata": {
        "colab": {
          "base_uri": "https://localhost:8080/"
        },
        "id": "5DvpiiJl0AZi",
        "outputId": "872cd224-3cdb-4827-cc3b-537f13dbecb9"
      },
      "execution_count": null,
      "outputs": [
        {
          "output_type": "stream",
          "name": "stdout",
          "text": [
            "15\n",
            "16\n",
            "Sisa hutang Anda adalah  5000\n",
            "120\n",
            "Setiap anak akan mendapatkan bagian kue sebanyak  4.0\n",
            "Sisa bagi dari bilangan  14  dan  5  adalah  4\n",
            "64\n",
            "3\n"
          ]
        }
      ]
    },
    {
      "cell_type": "markdown",
      "source": [
        "# **Tipe Data dan Analisis Masalah**"
      ],
      "metadata": {
        "id": "_aLHe1gP0Pap"
      }
    },
    {
      "cell_type": "markdown",
      "source": [
        "## Tipe Data Boolean\n",
        "Tipe data boolean adalah tipe data yang digunakan untuk mempresentasikan nilai kebenaran. Data ini akan erat kaitannya dengan logika\n",
        "matematika, dimana datanya hanya akan terdiri dari dua jenis, yaitu TRUE dan FALSE. Misalkan kita ingin menguji apakah data yang pertama lebih\n",
        "besar dari data yang kedua, jika benar maka Python akan menampilkan output TRUE, sementara jika salah maka akan menampilkan output FALSE."
      ],
      "metadata": {
        "id": "5FKIW5Y-ZUPH"
      }
    },
    {
      "cell_type": "code",
      "source": [
        "a = True\n",
        "b = False\n",
        "print(a and b)\n",
        "print(a or b)\n",
        "print(not a)"
      ],
      "metadata": {
        "colab": {
          "base_uri": "https://localhost:8080/"
        },
        "id": "y-fW_HpJZ7Um",
        "outputId": "8bd7deb4-4eaf-4b2b-8de9-67d8c5168264"
      },
      "execution_count": 1,
      "outputs": [
        {
          "output_type": "stream",
          "name": "stdout",
          "text": [
            "False\n",
            "True\n",
            "False\n"
          ]
        }
      ]
    },
    {
      "cell_type": "code",
      "source": [
        "x = True\n",
        "y = False\n",
        "print(10 > 5)\n",
        "print(10 < 5)"
      ],
      "metadata": {
        "colab": {
          "base_uri": "https://localhost:8080/"
        },
        "id": "78KQTHf8aATi",
        "outputId": "6ff7eddf-f84e-42ac-f1a3-ed491a0e0a9c"
      },
      "execution_count": 2,
      "outputs": [
        {
          "output_type": "stream",
          "name": "stdout",
          "text": [
            "True\n",
            "False\n"
          ]
        }
      ]
    },
    {
      "cell_type": "markdown",
      "source": [
        "## Operasi Perbandingan\n",
        "Operator perbandingan (comparison operators) digunakan untuk membandingkan suatu nilai dari masing-masing operan.\n",
        "- Sama dengan (==) : bernilai True Jika masing-masing operan memiliki nilai yang sama, maka kondisi bernilai benar atau True.\n",
        "- Tidak sama dengan (<>) : bernilai False Akan menghasilkan nilai kebalikan dari kondisi sebenarnya.\n",
        "- Lebih besar dari (>) : bernilai True Jika nilai operan kiri lebih besar dari nilai operan kanan, maka kondisi menjadi benar.\n",
        "- Lebih kecil dari (<) : bernilai True Jika nilai operan kiri lebih kecil dari nilai operan kanan, maka kondisi menjadi benar.\n",
        "- Lebih besar atau sama dengan (>=) : bernilai True Jika nilai operan kiri - lebih besar dari nilai operan kanan, atau sama, maka kondisi menjadi\n",
        "benar.\n",
        "- Lebih kecil atau sama dengan (<=) : bernilai True Jika nilai operan kiri lebih kecil dari nilai operan kanan, atau sama, maka kondisi menjadi\n",
        "benar."
      ],
      "metadata": {
        "id": "RpMmIh8OaQNR"
      }
    },
    {
      "cell_type": "code",
      "source": [
        "#Operasi Perbandingan\n",
        "# SAMA DENGAN\n",
        "print(1 == 1) # Hasilnya akan bernilai True karena satu sama dengan satu\n",
        "print(1 == 2) # Hasilnya akan bernilai False karena satu tidak sama dengan dua\n",
        "# TIDAK SAMA DENGAN\n",
        "print(2 != 2) # Hasilnya akan bernilai False karena dua seharusnya sama dengan dua\n",
        "print(2 != 3) # Hasilnya akan bernilai True karena dua tidak sama dengan tiga\n",
        "# LEBIH BESAR DARI\n",
        "print(5 > 3) # Hasilnya akan bernilai True karena lima lebih besar dari tiga\n",
        "# LEBIH KECIL DARI\n",
        "print(5 < 3) # Hasilnya akan bernilai False karena lima tidak lebih besar dari tiga\n",
        "# LEBIH BESAR DARI SAMA DENGAN\n",
        "print(5 >= 3) # Hasilnya akan bernilai True karena lima lebih besar dari sama dengan tiga\n",
        "# LEBIH KECIL DARI SAMA DENGAN\n",
        "print(5 <= 3) # Hasilnya akan bernilai False karena lima tidak lebih besar dari sama dengan tiga"
      ],
      "metadata": {
        "colab": {
          "base_uri": "https://localhost:8080/"
        },
        "id": "zSW7lMo2aqmL",
        "outputId": "d622d99b-a46a-4215-9605-2b6466c246ee"
      },
      "execution_count": 3,
      "outputs": [
        {
          "output_type": "stream",
          "name": "stdout",
          "text": [
            "True\n",
            "False\n",
            "False\n",
            "True\n",
            "True\n",
            "False\n",
            "True\n",
            "False\n"
          ]
        }
      ]
    },
    {
      "cell_type": "markdown",
      "source": [
        "## Tipe Data String\n",
        "Tipe data ini merupakan tipe data yang berkaitan erat dengan data yang bentuknya teks. Dalam proses analisis data, data yang kita butuhkan\n",
        "terkadang tidak hanya data numerik, namun juga data string. Dengan memahami tipe data ini, kita akan bisa memprosesnya dengan lebih mudah."
      ],
      "metadata": {
        "id": "Teumk3bka4gd"
      }
    },
    {
      "cell_type": "code",
      "source": [
        "nama = \"Gracella Mangalik\"\n",
        "print(nama)"
      ],
      "metadata": {
        "colab": {
          "base_uri": "https://localhost:8080/"
        },
        "id": "CL13yVxobEpT",
        "outputId": "8f65a9e2-9d20-4f8f-b665-0fcafad4a519"
      },
      "execution_count": 5,
      "outputs": [
        {
          "output_type": "stream",
          "name": "stdout",
          "text": [
            "Gracella Mangalik\n"
          ]
        }
      ]
    },
    {
      "cell_type": "code",
      "source": [
        "sapa = \"Halo\"\n",
        "nama = \"Gracella Mangalik\"\n",
        "kalimat = sapa + \" \" + nama\n",
        "print(kalimat)\n"
      ],
      "metadata": {
        "colab": {
          "base_uri": "https://localhost:8080/"
        },
        "id": "O9igiZIibIlH",
        "outputId": "1a0ac252-5df4-4e63-def9-fda1231d3a37"
      },
      "execution_count": 6,
      "outputs": [
        {
          "output_type": "stream",
          "name": "stdout",
          "text": [
            "Halo Gracella Mangalik\n"
          ]
        }
      ]
    },
    {
      "cell_type": "markdown",
      "source": [
        "# **Perulangan(dengan For-Loop)**\n",
        "## Perulangan (Looping)\n",
        "Secara umum, looping atau perulangan pada Python adalah instruksi kode program yang dieksekusi berulang kali. Fungsinya untuk memerintah\n",
        "komputer melakukan sesuatu secara berulang-ulang dengan jumlah tertentu selama sebuah kondisi yang telah ditentukan masih terpenuhi. Python\n",
        "memiliki dua jenis perulangan utama: for loop dan while loop.\n",
        "## 1. For Loop\n",
        "Digunakan untuk mengulangi elemen dalam urutan (seperti list, tuple, string, atau range).\n"
      ],
      "metadata": {
        "id": "5rn_squubbpb"
      }
    },
    {
      "cell_type": "code",
      "source": [
        "#Loop Melalui List\n",
        "buah = [\"apel\", \"pisang\", \"anggur\"]\n",
        "for buah in buah:\n",
        "    print (buah)\n",
        "print ()\n",
        "\n",
        "\n",
        "#Loop Melalui String\n",
        "text = \"Python\"\n",
        "for char in text:\n",
        "    print (char)\n",
        "print  ()\n",
        "\n",
        "\n",
        "#Loop dengan Range\n",
        "# Angka dari 0 hingga 4\n",
        "for i in range(5):\n",
        "    print (i)\n",
        "\n",
        "\n",
        "# Angka dari 2 hingga 5\n",
        "for i in range(2, 6):\n",
        "    print (i)"
      ],
      "metadata": {
        "colab": {
          "base_uri": "https://localhost:8080/"
        },
        "id": "UzdiPT5bcNmS",
        "outputId": "9872c10a-6ab4-4d7f-8359-edf02f87d549"
      },
      "execution_count": 13,
      "outputs": [
        {
          "output_type": "stream",
          "name": "stdout",
          "text": [
            "apel\n",
            "pisang\n",
            "anggur\n",
            "\n",
            "P\n",
            "y\n",
            "t\n",
            "h\n",
            "o\n",
            "n\n",
            "\n",
            "0\n",
            "1\n",
            "2\n",
            "3\n",
            "4\n",
            "2\n",
            "3\n",
            "4\n",
            "5\n"
          ]
        }
      ]
    },
    {
      "cell_type": "markdown",
      "source": [
        "# 2. while Loop\n",
        "Digunakan untuk mengulang blok kode selama kondisi bernilai True"
      ],
      "metadata": {
        "id": "uFrdhRagdSKq"
      }
    },
    {
      "cell_type": "code",
      "source": [
        "#Bentuk umum:\n",
        "jawab = 'ya'\n",
        "hitung = 0\n",
        "\n",
        "while(jawab == 'ya'):\n",
        "    hitung += 1\n",
        "    jawab = input(\"Ulang lagi tidak? \")\n",
        "print(f\"Total perulagan: {hitung}\")\n",
        "print()\n",
        "\n",
        "#While dengan Kondisi\n",
        "number = 10\n",
        "while number > 0:\n",
        "    print(number)\n",
        "    number -= 2\n",
        "print()\n",
        "\n",
        "#While dengan Break dan Continue\n",
        "count = 0\n",
        "while count < 5:\n",
        "    if count == 3:\n",
        "        break\n",
        "    print(count)\n",
        "    count += 1\n",
        "\n",
        "count = 0\n",
        "while count < 5:\n",
        "    count += 1\n",
        "    if count == 3:\n",
        "        continue\n",
        "    print(count)y"
      ],
      "metadata": {
        "colab": {
          "base_uri": "https://localhost:8080/"
        },
        "id": "58jYzZYSfYRR",
        "outputId": "2fbbc4de-f529-4e66-c145-db67a9d6f752"
      },
      "execution_count": 33,
      "outputs": [
        {
          "output_type": "stream",
          "name": "stdout",
          "text": [
            "Ulang lagi tidak? ya\n",
            "Ulang lagi tidak? ya\n",
            "Ulang lagi tidak? ya\n",
            "Ulang lagi tidak? ya\n",
            "Ulang lagi tidak? a\n",
            "Total perulagan: 5\n",
            "\n",
            "10\n",
            "8\n",
            "6\n",
            "4\n",
            "2\n",
            "\n",
            "0\n",
            "1\n",
            "2\n",
            "1\n",
            "2\n",
            "4\n",
            "5\n"
          ]
        }
      ]
    },
    {
      "cell_type": "markdown",
      "source": [
        "# **Percabangan If Else**\n",
        "1. Percabangan 'If' (Single Alternative Selection):"
      ],
      "metadata": {
        "id": "dtR_9UAPfYnS"
      }
    },
    {
      "cell_type": "code",
      "source": [
        "umur = 18\n",
        "if umur >= 18:\n",
        "    print(\"Anda sudah dewasa.\")"
      ],
      "metadata": {
        "colab": {
          "base_uri": "https://localhost:8080/"
        },
        "id": "TeZkvthQfnbm",
        "outputId": "3d2e0375-d2f2-4d0f-967b-b37d223ab87b"
      },
      "execution_count": 25,
      "outputs": [
        {
          "output_type": "stream",
          "name": "stdout",
          "text": [
            "Anda sudah dewasa.\n"
          ]
        }
      ]
    },
    {
      "cell_type": "code",
      "source": [
        "nilai = 85\n",
        "if nilai >= 75:\n",
        "    print(\"Selamat! Anda lulus.\")"
      ],
      "metadata": {
        "colab": {
          "base_uri": "https://localhost:8080/"
        },
        "id": "R8PcD5TYfs77",
        "outputId": "446b3abc-0f1a-4e48-ce5a-ce4ee125fe99"
      },
      "execution_count": 26,
      "outputs": [
        {
          "output_type": "stream",
          "name": "stdout",
          "text": [
            "Selamat! Anda lulus.\n"
          ]
        }
      ]
    },
    {
      "cell_type": "markdown",
      "source": [
        "## 2. Percabangan 'If-Else' (Dual Alternative Selection):"
      ],
      "metadata": {
        "id": "WgcsKO2af8fT"
      }
    },
    {
      "cell_type": "code",
      "source": [
        "nilai = 82\n",
        "if nilai >= 60:\n",
        "    print(\"Anda lulus.\")\n",
        "else:\n",
        "    print(\"Anda belum lulus.\")"
      ],
      "metadata": {
        "colab": {
          "base_uri": "https://localhost:8080/"
        },
        "id": "A14Lh_4_gTeo",
        "outputId": "4ba53d68-deb6-4a05-8154-ea387cb995e9"
      },
      "execution_count": 27,
      "outputs": [
        {
          "output_type": "stream",
          "name": "stdout",
          "text": [
            "Anda lulus.\n"
          ]
        }
      ]
    },
    {
      "cell_type": "code",
      "source": [
        "angka = 7\n",
        "if angka % 2 == 0:\n",
        "    print(f\"{angka} adalah bilangan genap.\")\n",
        "else:\n",
        "    print(f\"{angka} adalah bilangan ganjil.\")"
      ],
      "metadata": {
        "colab": {
          "base_uri": "https://localhost:8080/"
        },
        "id": "Ul2iK-RUgd8H",
        "outputId": "f817cde6-6ef4-4c6f-b3a0-bd02055b14e6"
      },
      "execution_count": 28,
      "outputs": [
        {
          "output_type": "stream",
          "name": "stdout",
          "text": [
            "7 adalah bilangan ganjil.\n"
          ]
        }
      ]
    },
    {
      "cell_type": "markdown",
      "source": [
        "## 3. Percabangan 'If-Elif-Else' (Multiple Alternative Selection):"
      ],
      "metadata": {
        "id": "0N9nLOUggx8k"
      }
    },
    {
      "cell_type": "code",
      "source": [
        "nomor_hari = 5\n",
        "if nomor_hari == 1:\n",
        "    print(\"Ini adalah hari Senin.\")\n",
        "elif nomor_hari == 2:\n",
        "    print(\"Ini adalah hari Selasa.\")\n",
        "elif nomor_hari == 3:\n",
        "    print(\"Ini adalah hari Rabu.\")\n",
        "elif nomor_hari == 4:\n",
        "   print(\"Ini adalah hari Kamis.\")\n",
        "elif nomor_hari == 5:\n",
        "   print(\"Ini adalah hari Jumat.\")\n",
        "else:\n",
        "   print(\"Ini adalah hari akhir pekan.\")"
      ],
      "metadata": {
        "colab": {
          "base_uri": "https://localhost:8080/"
        },
        "id": "_7o91UrLg3Vo",
        "outputId": "edab92df-2741-40d3-c2a5-6c8c1a3e5835"
      },
      "execution_count": 29,
      "outputs": [
        {
          "output_type": "stream",
          "name": "stdout",
          "text": [
            "Ini adalah hari Jumat.\n"
          ]
        }
      ]
    },
    {
      "cell_type": "code",
      "source": [
        "suhu = 32\n",
        "if suhu > 30:\n",
        "    print(\"Cuaca sangat panas.\")\n",
        "elif suhu > 20:\n",
        "    print(\"Cuaca hangat.\")\n",
        "elif suhu > 10:\n",
        "    print(\"Cuaca sejuk.\")\n",
        "else:\n",
        "    print(\"Cuaca dingin.\")"
      ],
      "metadata": {
        "colab": {
          "base_uri": "https://localhost:8080/"
        },
        "id": "0YEpbCdohUqj",
        "outputId": "ddf0045f-cedf-4743-b8bd-640f66a75fdd"
      },
      "execution_count": 30,
      "outputs": [
        {
          "output_type": "stream",
          "name": "stdout",
          "text": [
            "Cuaca sangat panas.\n"
          ]
        }
      ]
    },
    {
      "cell_type": "markdown",
      "source": [
        "## 4. Percabangan Bersarang (Nested If)"
      ],
      "metadata": {
        "id": "NGNlfdTohoK_"
      }
    },
    {
      "cell_type": "code",
      "source": [
        "usia = 25\n",
        "status_pernikahan = \"belum menikah\"\n",
        "\n",
        "if usia >= 18:\n",
        "    if status_pernikahan == \"menikah\":\n",
        "        print(\"Anda sudah dewasa dan menikah.\")\n",
        "    else:\n",
        "        print(\"Anda sudah dewasa dan belum menikah.\")\n",
        "else:\n",
        "    print(\"Anda masih remaja.\")"
      ],
      "metadata": {
        "colab": {
          "base_uri": "https://localhost:8080/"
        },
        "id": "XSbmhshfh1D-",
        "outputId": "5b6340ea-20b1-49c6-fba6-86662cd41719"
      },
      "execution_count": 31,
      "outputs": [
        {
          "output_type": "stream",
          "name": "stdout",
          "text": [
            "Anda sudah dewasa dan belum menikah.\n"
          ]
        }
      ]
    },
    {
      "cell_type": "code",
      "source": [
        "nilai = 75\n",
        "prestasi = True\n",
        "if nilai >= 85:\n",
        "    if prestasi:\n",
        "        print(\"Anda layak mendapatkan beasiswa penuh!\")\n",
        "    else:\n",
        "        print(\"Anda layak mendapatkan beasiswa sebagian.\")\n",
        "else:\n",
        "    print(\"Maaf, Anda tidak layak mendapatkan beasiswa.\")"
      ],
      "metadata": {
        "colab": {
          "base_uri": "https://localhost:8080/"
        },
        "id": "JAgS-bYQiX3i",
        "outputId": "18679266-2513-4a5c-9311-2e7501ffd8ec"
      },
      "execution_count": 32,
      "outputs": [
        {
          "output_type": "stream",
          "name": "stdout",
          "text": [
            "Maaf, Anda tidak layak mendapatkan beasiswa.\n"
          ]
        }
      ]
    }
  ],
  "metadata": {
    "colab": {
      "provenance": []
    },
    "kernelspec": {
      "display_name": "Python 3",
      "name": "python3"
    },
    "language_info": {
      "name": "python"
    }
  },
  "nbformat": 4,
  "nbformat_minor": 0
}